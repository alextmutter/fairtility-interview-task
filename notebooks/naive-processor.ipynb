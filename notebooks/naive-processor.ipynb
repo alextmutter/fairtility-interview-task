{
 "cells": [
  {
   "cell_type": "code",
   "execution_count": 1,
   "id": "41784d23",
   "metadata": {},
   "outputs": [],
   "source": [
    "### Naive processor\n",
    "\n",
    "import os\n",
    "import numpy as np\n",
    "from PIL import Image\n",
    "import time\n",
    "\n",
    "WINDOW_LENGTH = 8\n",
    "IMAGE_DIR = \"incoming_images\"\n",
    "\n",
    "\n",
    "### Inference function\n",
    "def inference(image_files, window=WINDOW_LENGTH):\n",
    "    \n",
    "    if len(image_files) < window:\n",
    "        print(len(image_files), \"Not enough images for inference.\")\n",
    "        return None\n",
    "    \n",
    "    else:\n",
    "        images = []\n",
    "        for file in image_files:\n",
    "            img_path = os.path.join(IMAGE_DIR, file)\n",
    "            img = np.array(Image.open(img_path))\n",
    "            images.append(img)\n",
    "\n",
    "        images = np.stack(images)  # Shape: (16, 256, 256, 2)\n",
    "        avg_pixel = np.mean(images, axis=0)  # Compute average pixel per channel\n",
    "        sum_avg_pixel = np.sum(avg_pixel)  # Compute sum of average pixels\n",
    "\n",
    "        return sum_avg_pixel\n",
    "\n"
   ]
  },
  {
   "cell_type": "code",
   "execution_count": 2,
   "id": "3f0ec96f",
   "metadata": {},
   "outputs": [
    {
     "ename": "FileNotFoundError",
     "evalue": "[Errno 2] No such file or directory: 'incoming_images'",
     "output_type": "error",
     "traceback": [
      "\u001b[0;31m---------------------------------------------------------------------------\u001b[0m",
      "\u001b[0;31mFileNotFoundError\u001b[0m                         Traceback (most recent call last)",
      "Cell \u001b[0;32mIn[2], line 15\u001b[0m\n\u001b[1;32m     13\u001b[0m \u001b[38;5;28;01mwhile\u001b[39;00m idle_count \u001b[38;5;241m<\u001b[39m MAX_IDLE_COUNT:\n\u001b[1;32m     14\u001b[0m     start_time \u001b[38;5;241m=\u001b[39m time\u001b[38;5;241m.\u001b[39mtime()\n\u001b[0;32m---> 15\u001b[0m     files_in_directory \u001b[38;5;241m=\u001b[39m \u001b[43mos\u001b[49m\u001b[38;5;241;43m.\u001b[39;49m\u001b[43mlistdir\u001b[49m\u001b[43m(\u001b[49m\u001b[43mIMAGE_DIR\u001b[49m\u001b[43m)\u001b[49m\n\u001b[1;32m     16\u001b[0m     image_files \u001b[38;5;241m=\u001b[39m [file \u001b[38;5;28;01mfor\u001b[39;00m file \u001b[38;5;129;01min\u001b[39;00m files_in_directory \u001b[38;5;28;01mif\u001b[39;00m file\u001b[38;5;241m.\u001b[39mendswith((\u001b[38;5;124m'\u001b[39m\u001b[38;5;124m.png\u001b[39m\u001b[38;5;124m'\u001b[39m, \u001b[38;5;124m'\u001b[39m\u001b[38;5;124m.jpg\u001b[39m\u001b[38;5;124m'\u001b[39m, \u001b[38;5;124m'\u001b[39m\u001b[38;5;124m.jpeg\u001b[39m\u001b[38;5;124m'\u001b[39m))]\n\u001b[1;32m     18\u001b[0m     \u001b[38;5;28;01mif\u001b[39;00m \u001b[38;5;28mlen\u001b[39m(image_files) \u001b[38;5;241m>\u001b[39m prev_total_files_count:\n",
      "\u001b[0;31mFileNotFoundError\u001b[0m: [Errno 2] No such file or directory: 'incoming_images'"
     ]
    }
   ],
   "source": [
    "### SLIDING WINDOWS\n",
    "\n",
    "POLL_INTERVAL = 10  # Poll every X seconds\n",
    "MAX_IDLE_COUNT = 2  # Maximum consecutive intervals without new images before ending the script\n",
    "\n",
    "\n",
    "# Polling loop\n",
    "idle_count = 0  # Counter to track consecutive idle intervals\n",
    "prev_total_files_count = 0\n",
    "processing_count = 0\n",
    "total_processing_time = 0\n",
    "\n",
    "while idle_count < MAX_IDLE_COUNT:\n",
    "    start_time = time.time()\n",
    "    files_in_directory = os.listdir(IMAGE_DIR)\n",
    "    image_files = [file for file in files_in_directory if file.endswith(('.png', '.jpg', '.jpeg'))]\n",
    "    \n",
    "    if len(image_files) > prev_total_files_count:\n",
    "        idle_count = 0  # Reset idle counter when new images are found\n",
    "        processed_windows = []\n",
    "        if len(image_files) >= WINDOW_LENGTH:\n",
    "            image_files.sort(key=lambda file: os.path.getctime(os.path.join(IMAGE_DIR, file)))\n",
    "            for i in range(len(image_files) - WINDOW_LENGTH + 1):\n",
    "                batch = image_files[i:i + WINDOW_LENGTH]\n",
    "                processed_windows.append(inference(batch))\n",
    "                processing_count+=1\n",
    "\n",
    "            print(\"Current processing count:\", processing_count)\n",
    "            print(\"Current length of processed windows:\", len(processed_windows), '\\n')\n",
    "    \n",
    "    else:\n",
    "        idle_count += 1  # Increment idle counter if no new images are found\n",
    "    \n",
    "    prev_total_files_count = len(image_files)\n",
    "    end_time = time.time()\n",
    "    total_processing_time += (end_time-start_time)\n",
    "    time.sleep(POLL_INTERVAL)\n",
    "\n",
    "print(\"No new images found for two consecutive intervals. Ending the script.\")\n",
    "print(\"Total windows processed:\", processing_count)\n",
    "print(\"Sum of processed windows:\", sum(processed_windows))\n",
    "print(\"Total processing time:\", total_processing_time)\n"
   ]
  },
  {
   "cell_type": "code",
   "execution_count": null,
   "id": "ebab3c6a",
   "metadata": {},
   "outputs": [],
   "source": []
  },
  {
   "cell_type": "code",
   "execution_count": null,
   "id": "0ba98a40",
   "metadata": {},
   "outputs": [],
   "source": []
  },
  {
   "cell_type": "code",
   "execution_count": null,
   "id": "8ac3c467",
   "metadata": {},
   "outputs": [],
   "source": []
  },
  {
   "cell_type": "code",
   "execution_count": 27,
   "id": "59def087",
   "metadata": {},
   "outputs": [],
   "source": [
    "# ### FIXED WINDOWS\n",
    "\n",
    "# POLL_INTERVAL = 10  # Poll every X seconds\n",
    "# MAX_IDLE_COUNT = 2  # Maximum consecutive intervals without new images before ending the script\n",
    "\n",
    "\n",
    "# # Polling loop\n",
    "# idle_count = 0  # Counter to track consecutive idle intervals\n",
    "# prev_total_files_count = 0\n",
    "# processing_count = 0\n",
    "\n",
    "# while idle_count < MAX_IDLE_COUNT:\n",
    "#     files_in_directory = os.listdir(IMAGE_DIR)\n",
    "#     image_files = [file for file in files_in_directory if file.endswith(('.png', '.jpg', '.jpeg'))]\n",
    "\n",
    "#     if len(image_files) > prev_total_files_count:\n",
    "#         image_files.sort(key=lambda file: os.path.getctime(os.path.join(IMAGE_DIR, file)))\n",
    "        \n",
    "#         print(\"New image(s) detected. Processing images in batches...\")\n",
    "\n",
    "#         # Process images in sliding windows of size `batch_size`\n",
    "#         for i in range(0, len(image_files), WINDOW_LENGTH):\n",
    "#             batch = image_files[i:i + WINDOW_LENGTH]\n",
    "# #             print(f\"Processing batch: {batch}\")\n",
    "#             processing_count+=1\n",
    "#             print(inference(batch))\n",
    "\n",
    "#         idle_count = 0  # Reset idle counter when new images are found\n",
    "#     else:\n",
    "#         idle_count += 1  # Increment idle counter if no new images are found\n",
    "    \n",
    "#     prev_total_files_count = len(image_files)\n",
    "#     time.sleep(POLL_INTERVAL)\n",
    "\n",
    "# print(\"No new images found for two consecutive intervals. Ending the script.\")\n",
    "# print(\"total windows processed:\", processing_count)\n"
   ]
  },
  {
   "cell_type": "code",
   "execution_count": null,
   "id": "16a00416",
   "metadata": {},
   "outputs": [],
   "source": []
  },
  {
   "cell_type": "code",
   "execution_count": null,
   "id": "48c686e6",
   "metadata": {},
   "outputs": [],
   "source": []
  },
  {
   "cell_type": "code",
   "execution_count": null,
   "id": "83cbb101",
   "metadata": {},
   "outputs": [],
   "source": []
  },
  {
   "cell_type": "code",
   "execution_count": null,
   "id": "6f75827d",
   "metadata": {},
   "outputs": [],
   "source": []
  },
  {
   "cell_type": "code",
   "execution_count": null,
   "id": "a5b861a0",
   "metadata": {},
   "outputs": [],
   "source": []
  },
  {
   "cell_type": "code",
   "execution_count": null,
   "id": "3419c115",
   "metadata": {},
   "outputs": [],
   "source": []
  },
  {
   "cell_type": "code",
   "execution_count": null,
   "id": "8b657333",
   "metadata": {},
   "outputs": [],
   "source": []
  },
  {
   "cell_type": "code",
   "execution_count": null,
   "id": "51d58aa1",
   "metadata": {},
   "outputs": [],
   "source": []
  },
  {
   "cell_type": "code",
   "execution_count": null,
   "id": "5e80a663",
   "metadata": {},
   "outputs": [],
   "source": []
  },
  {
   "cell_type": "code",
   "execution_count": null,
   "id": "2ac4842e",
   "metadata": {},
   "outputs": [],
   "source": []
  }
 ],
 "metadata": {
  "kernelspec": {
   "display_name": "Python 3 (ipykernel)",
   "language": "python",
   "name": "python3"
  },
  "language_info": {
   "codemirror_mode": {
    "name": "ipython",
    "version": 3
   },
   "file_extension": ".py",
   "mimetype": "text/x-python",
   "name": "python",
   "nbconvert_exporter": "python",
   "pygments_lexer": "ipython3",
   "version": "3.10.9"
  }
 },
 "nbformat": 4,
 "nbformat_minor": 5
}
